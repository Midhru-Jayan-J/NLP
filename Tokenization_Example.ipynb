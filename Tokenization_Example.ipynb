{
 "cells": [
  {
   "cell_type": "code",
   "execution_count": 1,
   "id": "062f223c-2231-4d1f-a05d-d282097380a8",
   "metadata": {},
   "outputs": [
    {
     "name": "stdout",
     "output_type": "stream",
     "text": [
      "Requirement already satisfied: nltk in c:\\users\\hp\\anaconda3\\lib\\site-packages (3.8.1)\n",
      "Requirement already satisfied: click in c:\\users\\hp\\anaconda3\\lib\\site-packages (from nltk) (8.1.7)\n",
      "Requirement already satisfied: joblib in c:\\users\\hp\\anaconda3\\lib\\site-packages (from nltk) (1.2.0)\n",
      "Requirement already satisfied: regex>=2021.8.3 in c:\\users\\hp\\anaconda3\\lib\\site-packages (from nltk) (2023.10.3)\n",
      "Requirement already satisfied: tqdm in c:\\users\\hp\\anaconda3\\lib\\site-packages (from nltk) (4.66.5)\n",
      "Requirement already satisfied: colorama in c:\\users\\hp\\anaconda3\\lib\\site-packages (from click->nltk) (0.4.6)\n"
     ]
    }
   ],
   "source": [
    "!pip install nltk \n"
   ]
  },
  {
   "cell_type": "code",
   "execution_count": 26,
   "id": "a5c07b9f-8d65-4273-9952-c05412c86674",
   "metadata": {},
   "outputs": [],
   "source": [
    "corpus=\"\"\"Hello , This is the first code in nlp.\\n Feeling Excited ! I wanted to integrate it with computer vision projects.\\n\n",
    "\"\"\""
   ]
  },
  {
   "cell_type": "code",
   "execution_count": 27,
   "id": "0ffd2230-4b9d-4169-96f6-01a94084d31a",
   "metadata": {},
   "outputs": [
    {
     "name": "stdout",
     "output_type": "stream",
     "text": [
      "Hello , This is the first code in nlp.\n",
      " Feeling Excited ! I wanted to integrate it with computer vision projects.\n",
      "\n",
      "\n"
     ]
    }
   ],
   "source": [
    "print(corpus)"
   ]
  },
  {
   "cell_type": "code",
   "execution_count": 28,
   "id": "4d044b48-e9ff-47a3-820f-e357745a8ba5",
   "metadata": {},
   "outputs": [],
   "source": [
    "from nltk.tokenize import sent_tokenize"
   ]
  },
  {
   "cell_type": "code",
   "execution_count": 29,
   "id": "b91fe5c5-6575-4e4a-afcf-c26157c90eeb",
   "metadata": {},
   "outputs": [
    {
     "data": {
      "text/plain": [
       "['Hello , This is the first code in nlp.',\n",
       " 'Feeling Excited !',\n",
       " 'I wanted to integrate it with computer vision projects.']"
      ]
     },
     "execution_count": 29,
     "metadata": {},
     "output_type": "execute_result"
    }
   ],
   "source": [
    "sent_tokenize(corpus)"
   ]
  },
  {
   "cell_type": "code",
   "execution_count": 30,
   "id": "dc9b683a-6c0c-4675-9e5d-7300566137b0",
   "metadata": {},
   "outputs": [],
   "source": [
    "  documents =sent_tokenize(corpus)"
   ]
  },
  {
   "cell_type": "code",
   "execution_count": 31,
   "id": "e325712b-72ab-476b-9c16-1c232a1ffc62",
   "metadata": {},
   "outputs": [
    {
     "data": {
      "text/plain": [
       "list"
      ]
     },
     "execution_count": 31,
     "metadata": {},
     "output_type": "execute_result"
    }
   ],
   "source": [
    "type(documents)"
   ]
  },
  {
   "cell_type": "code",
   "execution_count": 32,
   "id": "63524d11-5836-4d83-b85e-9cb467507a54",
   "metadata": {},
   "outputs": [],
   "source": [
    "from nltk.tokenize import word_tokenize"
   ]
  },
  {
   "cell_type": "code",
   "execution_count": 33,
   "id": "eacd3153-3b12-47ba-b6eb-911d4cdaf6ff",
   "metadata": {},
   "outputs": [
    {
     "data": {
      "text/plain": [
       "['Hello',\n",
       " ',',\n",
       " 'This',\n",
       " 'is',\n",
       " 'the',\n",
       " 'first',\n",
       " 'code',\n",
       " 'in',\n",
       " 'nlp',\n",
       " '.',\n",
       " 'Feeling',\n",
       " 'Excited',\n",
       " '!',\n",
       " 'I',\n",
       " 'wanted',\n",
       " 'to',\n",
       " 'integrate',\n",
       " 'it',\n",
       " 'with',\n",
       " 'computer',\n",
       " 'vision',\n",
       " 'projects',\n",
       " '.']"
      ]
     },
     "execution_count": 33,
     "metadata": {},
     "output_type": "execute_result"
    }
   ],
   "source": [
    "word_tokenize(corpus)"
   ]
  },
  {
   "cell_type": "code",
   "execution_count": 34,
   "id": "9cdba96b-ddc8-4edc-a979-0315c65afc4c",
   "metadata": {},
   "outputs": [
    {
     "name": "stdout",
     "output_type": "stream",
     "text": [
      "['Hello', ',', 'This', 'is', 'the', 'first', 'code', 'in', 'nlp', '.']\n",
      "['Feeling', 'Excited', '!']\n",
      "['I', 'wanted', 'to', 'integrate', 'it', 'with', 'computer', 'vision', 'projects', '.']\n"
     ]
    }
   ],
   "source": [
    "   for sentence in documents:\n",
    "       print(word_tokenize(sentence))"
   ]
  },
  {
   "cell_type": "code",
   "execution_count": 35,
   "id": "e6518190-e19d-4678-a387-bea673eb3919",
   "metadata": {},
   "outputs": [],
   "source": [
    "from nltk.tokenize import wordpunct_tokenize"
   ]
  },
  {
   "cell_type": "code",
   "execution_count": 36,
   "id": "d4761b18-b610-4ed9-9c80-b2ab9f009fd3",
   "metadata": {},
   "outputs": [
    {
     "data": {
      "text/plain": [
       "['Hello',\n",
       " ',',\n",
       " 'This',\n",
       " 'is',\n",
       " 'the',\n",
       " 'first',\n",
       " 'code',\n",
       " 'in',\n",
       " 'nlp',\n",
       " '.',\n",
       " 'Feeling',\n",
       " 'Excited',\n",
       " '!',\n",
       " 'I',\n",
       " 'wanted',\n",
       " 'to',\n",
       " 'integrate',\n",
       " 'it',\n",
       " 'with',\n",
       " 'computer',\n",
       " 'vision',\n",
       " 'projects',\n",
       " '.']"
      ]
     },
     "execution_count": 36,
     "metadata": {},
     "output_type": "execute_result"
    }
   ],
   "source": [
    "wordpunct_tokenize(corpus)"
   ]
  },
  {
   "cell_type": "code",
   "execution_count": 37,
   "id": "a565bb0c-9896-464b-87be-8c33987fce4d",
   "metadata": {},
   "outputs": [],
   "source": [
    "from nltk.tokenize import TreebankWordTokenizer"
   ]
  },
  {
   "cell_type": "code",
   "execution_count": 38,
   "id": "40af265c-91b3-4463-ac06-999406900cf3",
   "metadata": {},
   "outputs": [],
   "source": [
    "tokenizer=TreebankWordTokenizer()"
   ]
  },
  {
   "cell_type": "code",
   "execution_count": 39,
   "id": "1f968c42-32b4-4137-83a5-b909b1a17d0c",
   "metadata": {},
   "outputs": [
    {
     "data": {
      "text/plain": [
       "['Hello',\n",
       " ',',\n",
       " 'This',\n",
       " 'is',\n",
       " 'the',\n",
       " 'first',\n",
       " 'code',\n",
       " 'in',\n",
       " 'nlp.',\n",
       " 'Feeling',\n",
       " 'Excited',\n",
       " '!',\n",
       " 'I',\n",
       " 'wanted',\n",
       " 'to',\n",
       " 'integrate',\n",
       " 'it',\n",
       " 'with',\n",
       " 'computer',\n",
       " 'vision',\n",
       " 'projects',\n",
       " '.']"
      ]
     },
     "execution_count": 39,
     "metadata": {},
     "output_type": "execute_result"
    }
   ],
   "source": [
    "tokenizer.tokenize(corpus)"
   ]
  },
  {
   "cell_type": "code",
   "execution_count": null,
   "id": "f9ea1dac-eeb4-44bc-ba6f-2ef1ede48fa0",
   "metadata": {},
   "outputs": [],
   "source": []
  }
 ],
 "metadata": {
  "kernelspec": {
   "display_name": "Python 3 (ipykernel)",
   "language": "python",
   "name": "python3"
  },
  "language_info": {
   "codemirror_mode": {
    "name": "ipython",
    "version": 3
   },
   "file_extension": ".py",
   "mimetype": "text/x-python",
   "name": "python",
   "nbconvert_exporter": "python",
   "pygments_lexer": "ipython3",
   "version": "3.11.7"
  }
 },
 "nbformat": 4,
 "nbformat_minor": 5
}
